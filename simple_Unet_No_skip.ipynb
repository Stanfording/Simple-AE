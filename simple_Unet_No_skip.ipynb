{
  "cells": [
    {
      "cell_type": "markdown",
      "metadata": {
        "id": "view-in-github",
        "colab_type": "text"
      },
      "source": [
        "<a href=\"https://colab.research.google.com/github/Stanfording/Simple-AE/blob/main/simple_Unet_No_skip.ipynb\" target=\"_parent\"><img src=\"https://colab.research.google.com/assets/colab-badge.svg\" alt=\"Open In Colab\"/></a>"
      ]
    },
    {
      "cell_type": "markdown",
      "source": [
        "\n",
        "\n",
        "# Goal:   Just get a small GAN running\n",
        "\n"
      ],
      "metadata": {
        "id": "7gaYl2YwkRiu"
      },
      "id": "7gaYl2YwkRiu"
    },
    {
      "cell_type": "markdown",
      "source": [
        "Get the preprocessed celebHD data from google drive"
      ],
      "metadata": {
        "id": "wwbluY6JOvnI"
      },
      "id": "wwbluY6JOvnI"
    },
    {
      "cell_type": "code",
      "source": [
        "#Download the dataset\n",
        "!wget --load-cookies /tmp/cookies.txt \"https://docs.google.com/uc?export=download&confirm=$(wget --quiet --save-cookies /tmp/cookies.txt --keep-session-cookies --no-check-certificate 'https://docs.google.com/uc?export=download&id=1KqBRLsB0CJuQGycvaPINwaPgcGDUsAxN' -O- | sed -rn 's/.*confirm=([0-9A-Za-z_]+).*/\\1\\n/p')&id=1KqBRLsB0CJuQGycvaPINwaPgcGDUsAxN\" -O \"proCeleba.zip\" && rm -rf /tmp/cookies.txt\n",
        "\n",
        "#unzip the dataset\n",
        "!unzip \"/content/proCeleba.zip\"\n",
        "\n",
        "#remove unnecessary files\n",
        "!rm -rf /content/__MACOSX"
      ],
      "metadata": {
        "id": "_ENY7QR3Y2ja"
      },
      "id": "_ENY7QR3Y2ja",
      "execution_count": null,
      "outputs": []
    },
    {
      "cell_type": "code",
      "source": [
        "from google.colab import drive\n",
        "drive.mount('/content/drive')"
      ],
      "metadata": {
        "id": "d6yrbOloXQ7L"
      },
      "id": "d6yrbOloXQ7L",
      "execution_count": null,
      "outputs": []
    },
    {
      "cell_type": "markdown",
      "source": [
        "### Install oneflow framework"
      ],
      "metadata": {
        "id": "yPo56lU-pF49"
      },
      "id": "yPo56lU-pF49"
    },
    {
      "cell_type": "code",
      "source": [
        "#!python3 -m pip install -f https://release.oneflow.info oneflow==0.7.0+cu102"
      ],
      "metadata": {
        "id": "d3nJqSVSpI-W"
      },
      "id": "d3nJqSVSpI-W",
      "execution_count": null,
      "outputs": []
    },
    {
      "cell_type": "code",
      "source": [
        "#import oneflow as t"
      ],
      "metadata": {
        "id": "sgDILgD5puGs"
      },
      "id": "sgDILgD5puGs",
      "execution_count": null,
      "outputs": []
    },
    {
      "cell_type": "markdown",
      "source": [
        "### Import libraries"
      ],
      "metadata": {
        "id": "K9N_s9aEj9Z6"
      },
      "id": "K9N_s9aEj9Z6"
    },
    {
      "cell_type": "code",
      "source": [
        "!pip install torchmetrics"
      ],
      "metadata": {
        "id": "Dyr8ZFMFHiF1"
      },
      "id": "Dyr8ZFMFHiF1",
      "execution_count": null,
      "outputs": []
    },
    {
      "cell_type": "code",
      "source": [
        "from tqdm import tqdm\n",
        "\n",
        "from torch.autograd import Variable, grad\n",
        "import matplotlib.pyplot as plt\n",
        "import matplotlib.image as mpimg\n",
        "import numpy as np\n",
        "from PIL import Image\n",
        "import os\n",
        "import torch as t\n",
        "import torch.nn as nn\n",
        "from torchvision import datasets, transforms, utils\n",
        "from torch.utils.data import Dataset, DataLoader\n",
        "from skimage import io\n",
        "import copy\n",
        "# from torchmetrics.classification import BinaryAccuracy"
      ],
      "metadata": {
        "id": "bqG8XadZj6x9"
      },
      "id": "bqG8XadZj6x9",
      "execution_count": null,
      "outputs": []
    },
    {
      "cell_type": "markdown",
      "source": [
        "### Set initial hyperparameters"
      ],
      "metadata": {
        "id": "KXdK6tiOkGSK"
      },
      "id": "KXdK6tiOkGSK"
    },
    {
      "cell_type": "code",
      "source": [
        "\n",
        "batch_size = 32\n",
        "\n",
        "x_resolution = 16\n",
        "\n",
        "y_resolution = 128 * 2\n",
        "\n",
        "img_fold_dir_16_reso = f\"/content/proCeleba/{x_resolution}\"\n",
        "\n",
        "img_fold_dir_64_reso = f\"/content/proCeleba/{y_resolution}\"\n",
        "\n",
        "iteration = 200\n",
        "\n",
        "critic = 20          #Train generator 5 times per epoch\n",
        "\n",
        "eval_size = 25\n",
        "\n",
        "laten_space = 100\n",
        "\n",
        "updatD_step = 5\n",
        "\n",
        "device = t.device('cuda' if t.cuda.is_available() else 'cpu')\n",
        "\n",
        "log_folder = \"log\"\n",
        "!mkdir \"log\"\n",
        "!mkdir \"log/checkpoint\"\n",
        "!mkdir \"log/sample\""
      ],
      "metadata": {
        "id": "dAnYprRokGzv"
      },
      "id": "dAnYprRokGzv",
      "execution_count": null,
      "outputs": []
    },
    {
      "cell_type": "markdown",
      "source": [
        "### Show me which gpu I am using."
      ],
      "metadata": {
        "id": "D1ief47pweis"
      },
      "id": "D1ief47pweis"
    },
    {
      "cell_type": "code",
      "source": [
        "!nvidia-smi -L"
      ],
      "metadata": {
        "id": "Ix7mhx4twcAN"
      },
      "id": "Ix7mhx4twcAN",
      "execution_count": null,
      "outputs": []
    },
    {
      "cell_type": "markdown",
      "source": [
        "### Pre loading the data"
      ],
      "metadata": {
        "id": "EyOdcipBkmFl"
      },
      "id": "EyOdcipBkmFl"
    },
    {
      "cell_type": "code",
      "source": [
        "# Define a data class for load unclassfied data.\n",
        "class Get_No_Classes_Img_Dataset(Dataset):\n",
        "\n",
        "    def __init__(self, folder_dir, transform = None, addNoise = False):\n",
        "        self.folder_dir = os.path.join(folder_dir)\n",
        "        self.transform = transform\n",
        "        self.image_list = os.listdir(self.folder_dir)\n",
        "        self.addNoise = addNoise\n",
        "\n",
        "\n",
        "    def __len__(self):\n",
        "        return len(os.listdir(self.folder_dir))\n",
        "\n",
        "    def __getitem__(self, index):\n",
        "\n",
        "        image_name = self.image_list[index]\n",
        "\n",
        "        image_dir = os.path.join(self.folder_dir, image_name)\n",
        "\n",
        "        image = io.imread(image_dir)\n",
        "\n",
        "        if (self.transform != None):\n",
        "            image = self.transform(image)\n",
        "            if self.addNoise == True:\n",
        "              noise = t.randn_like(image)\n",
        "              image += noise\n",
        "\n",
        "\n",
        "        return image\n",
        "\n",
        "# transform_X = transforms.ToTensor()\n",
        "transform_Y = transforms.ToTensor() #From Batch * Highth * Width * Channel to Batch * Channel * Highth * Width\n",
        "                                  #Which is what pytorch CNN can work with.\n",
        "\n",
        "# X_dataset = Get_No_Classes_Img_Dataset(img_fold_dir_16_reso, transform = transform_X, addNoise = True)\n",
        "\n",
        "Y_dataset = Get_No_Classes_Img_Dataset(img_fold_dir_64_reso, transform = transform_Y)\n",
        "                                                            # datasets[0].shape = (16,16,3)\n",
        "                                                            # len(datasets) = 28000\n",
        "total_data_len = len(Y_dataset)\n",
        "\n",
        "# X_dataloader = DataLoader(X_dataset, batch_size = batch_size) #loader is renewed every epoch\n",
        "Y_dataloader = DataLoader(Y_dataset, batch_size = batch_size) #loader is renewed every epoch\n",
        "\n",
        "# X_dataloader = list(iter(X_dataloader))\n",
        "Y_dataloader = list(iter(Y_dataloader))\n"
      ],
      "metadata": {
        "id": "_z16ZYcck-RJ"
      },
      "id": "_z16ZYcck-RJ",
      "execution_count": null,
      "outputs": []
    },
    {
      "cell_type": "markdown",
      "source": [
        "\n",
        "\n",
        "```\n",
        "loader = iter(loader)\n",
        "print(next(loader).shape)\n",
        "```\n",
        "will output\n",
        "\n",
        "\n",
        "```\n",
        "torch.Size([batch_size, 3, resolution, resolution])\n",
        "```\n",
        "\n",
        "So data loading is ready.\n",
        "\n",
        "What's left is keep using\n",
        "\n",
        "```\n",
        "next(loader)\n",
        "```\n",
        "to access each batch of data\n"
      ],
      "metadata": {
        "id": "J8EFVPstlDHD"
      },
      "id": "J8EFVPstlDHD"
    },
    {
      "cell_type": "markdown",
      "source": [
        "### Visualize a picture"
      ],
      "metadata": {
        "id": "wHfRekRs3-iJ"
      },
      "id": "wHfRekRs3-iJ"
    },
    {
      "cell_type": "code",
      "source": [
        "from IPython.display import Image, display\n",
        "\n",
        "\n",
        "\n",
        "\n",
        "# Viewing one data sample function:\n",
        "def showOneImge(img, i, shouldSave):\n",
        "\n",
        "    img = img.squeeze()\n",
        "\n",
        "    img = transforms.ToPILImage()(img)\n",
        "    #img = transforms.GaussianBlur(15, 3)(img)\n",
        "\n",
        "    plt.figure(figsize = (15,15), dpi = 30)\n",
        "    plt.axis('off')\n",
        "\n",
        "    if shouldSave:\n",
        "      saveDir = f'{log_folder}/sample/{str(i).zfill(6)}.png'\n",
        "      plt.imshow(img)\n",
        "      plt.savefig(saveDir, bbox_inches='tight', pad_inches = 0)\n",
        "      img = Image(saveDir)\n",
        "      display(img)\n",
        "    else:\n",
        "      deleteDir = f\"{log_folder}/sample/Delete.png\"\n",
        "      plt.imshow(img)\n",
        "      plt.savefig(deleteDir, bbox_inches='tight', pad_inches = 0)\n",
        "      img = Image(deleteDir)\n",
        "      display(img)\n",
        "      !rm \"/content/log/sample/Delete.png\"\n",
        "    return\n",
        "\n",
        "\n",
        "\n",
        "\n",
        "def showMoreImages(img, num):\n",
        "\n",
        "  subplot_x = int(num ** (1/2))\n",
        "  subplot_y = num // subplot_x\n",
        "  plt.figure(figsize = (2,2))\n",
        "  for i in range(len(img)):\n",
        "      aimg = transforms.ToPILImage()(img[i])\n",
        "      plt.subplot(subplot_x, subplot_y, i+1)\n",
        "      plt.imshow(aimg)\n",
        "      plt.axis('off')\n"
      ],
      "metadata": {
        "id": "Mob2aJ6CSLGr"
      },
      "id": "Mob2aJ6CSLGr",
      "execution_count": null,
      "outputs": []
    },
    {
      "cell_type": "markdown",
      "source": [
        "Visulize Data"
      ],
      "metadata": {
        "id": "YDcwawFp-KmM"
      },
      "id": "YDcwawFp-KmM"
    },
    {
      "cell_type": "code",
      "source": [
        "''' Testing showOneImage'''\n",
        "\n",
        "# oneSample_X = X_dataloader[0][0]\n",
        "oneSample_Y = Y_dataloader[0][0]\n",
        "print(oneSample_Y.shape)\n",
        "\n",
        "# showOneImge(oneSample_X, 9999, False)\n",
        "showOneImge(oneSample_Y, 9999, False)"
      ],
      "metadata": {
        "id": "LBr2dhWx-J8i"
      },
      "id": "LBr2dhWx-J8i",
      "execution_count": null,
      "outputs": []
    },
    {
      "cell_type": "markdown",
      "source": [
        "-------------------------------------------------\n",
        "\n",
        "### Now Designing the simple network"
      ],
      "metadata": {
        "id": "xf_Ocw2onofc"
      },
      "id": "xf_Ocw2onofc"
    },
    {
      "cell_type": "code",
      "source": [
        "\"\"\"\n",
        "Define the GAN Network\n",
        "\"\"\"\n",
        "import math\n",
        "\n",
        "class MLP_GAN(nn.Module):\n",
        "\n",
        "  def __init__(self):\n",
        "    super().__init__()\n",
        "\n",
        "    self.layer1 = nn.Sequential(\n",
        "            nn.Conv2d(3, 64, (3, 3), padding = \"same\"),\n",
        "            nn.LeakyReLU(0.2),\n",
        "            nn.BatchNorm2d(64),\n",
        "            nn.Conv2d(64, 128, (3, 3), padding = \"same\"),\n",
        "            nn.LeakyReLU(0.2),\n",
        "            nn.Dropout2d(),\n",
        "            nn.BatchNorm2d(128),\n",
        "            nn.Conv2d(128, 64, (3, 3), padding = \"same\"),\n",
        "            nn.LeakyReLU(0.2),\n",
        "            nn.BatchNorm2d(64),\n",
        "            nn.Conv2d(64, 3, (1, 1), padding = \"same\"),\n",
        "            nn.Sigmoid()\n",
        "            )\n",
        "\n",
        "  def forward(self, theInput):\n",
        "    output = self.layer1(theInput)\n",
        "    return output\n",
        "\n",
        "\n",
        "\n",
        "class G(nn.Module):\n",
        "\n",
        "    def __init__(self):\n",
        "        super().__init__()\n",
        "\n",
        "        self.upsample = nn.UpsamplingBilinear2d(y_resolution)\n",
        "\n",
        "        self.model = nn.Sequential(\n",
        "            nn.Conv2d(3, 64, (3, 3), padding = \"same\"),\n",
        "            nn.LeakyReLU(0.2),\n",
        "            nn.InstanceNorm2d(64),\n",
        "            nn.Conv2d(64, 256, (3, 3), padding = \"same\"),\n",
        "            nn.LeakyReLU(0.2),\n",
        "            nn.Dropout2d(),\n",
        "            nn.InstanceNorm2d(256),\n",
        "            nn.Conv2d(256, 256, (3, 3), padding = \"same\"),\n",
        "            nn.LeakyReLU(0.2),\n",
        "            nn.Dropout2d(),\n",
        "            nn.InstanceNorm2d(256),\n",
        "            nn.Conv2d(256, 256, (3, 3), padding = \"same\"),\n",
        "            nn.LeakyReLU(0.2),\n",
        "            nn.Dropout2d(),\n",
        "            nn.InstanceNorm2d(256),\n",
        "            nn.Conv2d(256, 256, (3, 3), padding = \"same\"),\n",
        "            nn.LeakyReLU(0.2),\n",
        "            nn.InstanceNorm2d(256),\n",
        "            nn.Conv2d(256, 32, (3, 3), padding = \"same\"),\n",
        "            nn.LeakyReLU(0.2),\n",
        "            nn.Dropout2d(),\n",
        "            nn.InstanceNorm2d(32),\n",
        "            nn.Conv2d(32, 3, (3, 3), padding = \"same\"),\n",
        "            nn.Sigmoid()\n",
        "        )\n",
        "\n",
        "\n",
        "\n",
        "    def forward(self, theInput):\n",
        "\n",
        "        x = self.upsample(theInput)\n",
        "\n",
        "        x = self.model(x)\n",
        "\n",
        "\n",
        "        return x\n",
        "\n",
        "class D(nn.Module):\n",
        "\n",
        "    def __init__(self):\n",
        "        super().__init__()\n",
        "        self.netWork = nn.Sequential(\n",
        "            nn.Conv2d(3, 64, (3, 3), padding = \"same\"),\n",
        "            nn.LeakyReLU(),\n",
        "            nn.Dropout2d(0.3),\n",
        "            nn.Conv2d(64, 256, (3, 3), padding = \"same\"),\n",
        "            nn.LeakyReLU(),\n",
        "            nn.Dropout2d(0.3),\n",
        "            nn.Conv2d(256, 256, (3, 3), padding = \"same\"),\n",
        "            nn.LeakyReLU(),\n",
        "            nn.Dropout2d(0.3),\n",
        "            nn.Conv2d(256, 256, (3, 3), padding = \"same\"),\n",
        "            nn.LeakyReLU(),\n",
        "            nn.Dropout2d(0.3),\n",
        "            nn.Conv2d(256, 256, (3, 3), padding = \"same\"),\n",
        "            nn.LeakyReLU(),\n",
        "            nn.Dropout2d(0.3),\n",
        "            nn.Conv2d(256, 128, (3, 3), padding = \"same\"),\n",
        "            nn.LeakyReLU(),\n",
        "            nn.Dropout2d(0.3),\n",
        "            nn.Conv2d(128, 8, (3, 3), stride = (3, 3)))\n",
        "\n",
        "        self.output = nn.Sequential(\n",
        "            nn.BatchNorm2d(8),\n",
        "            nn.LeakyReLU(),\n",
        "            nn.Conv2d(8, 1, (3, 3), stride = (3, 3)),\n",
        "            nn.AvgPool2d(7,7),\n",
        "            nn.Flatten())\n",
        "\n",
        "\n",
        "\n",
        "\n",
        "    def forward(self, theInput):\n",
        "        latent = self.netWork(theInput)\n",
        "        output = self.output(latent)\n",
        "\n",
        "\n",
        "\n",
        "        return output, latent\n",
        "\n",
        "\"\"\"\n",
        "Define A simple Auto-Encoder network\n",
        "\"\"\"\n",
        "\n",
        "#Modified the design of https://colab.research.google.com/drive/1sjy9odlSSy0RBVgMTgP7s99NXsqglsUL?usp=sharing#scrollTo=KOYPSxPf_LL7\n",
        "\n",
        "class Block(nn.Module):\n",
        "    def __init__(self, in_ch, out_ch, up=False):\n",
        "        super().__init__()\n",
        "        if up:\n",
        "            self.conv1 = nn.Conv2d(in_ch, out_ch, 3, padding=1)\n",
        "            self.transform = nn.ConvTranspose2d(out_ch, out_ch, 4, 2, 1)\n",
        "        else:\n",
        "            self.conv1 = nn.Conv2d(in_ch, out_ch, 3, padding=1)\n",
        "            self.transform = nn.Conv2d(out_ch, out_ch, 4, 2, 1)\n",
        "        self.conv2 = nn.Conv2d(out_ch, out_ch, 3, padding=1)\n",
        "        self.bnorm1 = nn.BatchNorm2d(out_ch)\n",
        "        self.bnorm2 = nn.BatchNorm2d(out_ch)\n",
        "        self.relu  = nn.ReLU()\n",
        "\n",
        "    def forward(self, x):\n",
        "        # First Conv\n",
        "        h = self.bnorm1(self.relu(self.conv1(x)))\n",
        "        # Add time channel\n",
        "        # Second Conv\n",
        "        h = self.bnorm2(self.relu(self.conv2(h)))\n",
        "        # Down or Upsample\n",
        "        return self.transform(h)\n",
        "\n",
        "class Layer(nn.Module):\n",
        "    def __init__(self, in_ch, out_ch):\n",
        "        super().__init__()\n",
        "\n",
        "        self.conv1 = nn.Conv2d(in_ch, out_ch, 3, padding=1)\n",
        "        self.bnorm1 = nn.BatchNorm2d(out_ch)\n",
        "        self.relu  = nn.ReLU()\n",
        "\n",
        "    def forward(self, x):\n",
        "        return self.bnorm1(self.relu(self.conv1(x)))\n",
        "\n",
        "\n",
        "\n",
        "class SimpleUnet(nn.Module):\n",
        "    \"\"\"\n",
        "    A simplified variant of the Unet architecture.\n",
        "    \"\"\"\n",
        "    def __init__(self):\n",
        "        super().__init__()\n",
        "        image_channels = 3\n",
        "        down_channels = (32, 64, 128, 256, 512, 1024)\n",
        "        up_channels = (1024, 512, 256, 128, 64,32)\n",
        "        out_dim = 1\n",
        "\n",
        "        # Initial projection\n",
        "        self.conv0 = nn.Conv2d(image_channels, down_channels[0], 3, padding=1)\n",
        "\n",
        "        # Downsample\n",
        "        self.downs = nn.ModuleList([Block(down_channels[i], down_channels[i+1]) \\\n",
        "                    for i in range(len(down_channels)-1)])\n",
        "        # Upsample\n",
        "        self.ups = nn.ModuleList([Block(up_channels[i], up_channels[i+1], up=True) \\\n",
        "                    for i in range(len(up_channels)-1)])\n",
        "\n",
        "        self.output = nn.Sequential(\n",
        "            Layer(up_channels[-1], up_channels[-1]),\n",
        "            Layer(up_channels[-1], up_channels[-1]),\n",
        "            Layer(up_channels[-1], up_channels[-1]),\n",
        "            nn.Conv2d(up_channels[-1], 3, out_dim),\n",
        "            nn.Sigmoid())\n",
        "\n",
        "    def forward(self, x):\n",
        "        # Embedd time\n",
        "        # Initial conv\n",
        "        x = self.conv0(x)\n",
        "        # Unet\n",
        "        for down in self.downs:\n",
        "            x = down(x)\n",
        "        for up in self.ups:\n",
        "            # Add residual x as additional channels\n",
        "            x = up(x)\n",
        "\n",
        "\n",
        "        return self.output(x)\n",
        "\n",
        "\n",
        "\n"
      ],
      "metadata": {
        "id": "e7L9uvqjnt8C"
      },
      "id": "e7L9uvqjnt8C",
      "execution_count": null,
      "outputs": []
    },
    {
      "cell_type": "markdown",
      "source": [
        "### Testing the network"
      ],
      "metadata": {
        "id": "rtBpnwV7n7dA"
      },
      "id": "rtBpnwV7n7dA"
    },
    {
      "cell_type": "code",
      "source": [
        "\"\"\"\n",
        "\n",
        "Testing the GAN network:\n",
        "\n",
        "\"\"\"\n",
        "\n",
        "oneSample_X = X_dataloader[0]\n",
        "oneSample_Y = Y_dataloader[0]\n",
        "\n",
        "#img into G to test shape\n",
        "\n",
        "a = G()(oneSample_X)\n",
        "\n",
        "showOneImge(a[0], 0, shouldSave = False)\n",
        "\n",
        "b, latent = D()(oneSample_Y)\n",
        "\n",
        "c = MLP_GAN()\n",
        "\n",
        "output = c(oneSample_Y)\n",
        "\n",
        "\n",
        "print(b[0])\n",
        "print(latent.shape)\n",
        "\n",
        "showOneImge(output[0], 0, shouldSave = False)"
      ],
      "metadata": {
        "id": "KcozfIv-n-Bu"
      },
      "id": "KcozfIv-n-Bu",
      "execution_count": null,
      "outputs": []
    },
    {
      "cell_type": "markdown",
      "source": [
        "### Gradient Penalty from wGAN, will test later."
      ],
      "metadata": {
        "id": "YsQ952nloLHH"
      },
      "id": "YsQ952nloLHH"
    },
    {
      "cell_type": "code",
      "source": [
        "# def compute_gradient_penalty(D, real_samples, fake_samples, current_batch_size):\n",
        "#     \"\"\"Calculates the gradient penalty loss for WGAN GP\"\"\"\n",
        "#     # Random weight term for interpolation between real and fake samples\n",
        "#     alpha = t.randn((current_batch_size, 1, 1, 1)).to(device)\n",
        "#     # Get random interpolation between real and fake samples\n",
        "#     interpolates = (alpha * real_samples + ((1 - alpha) * fake_samples)).requires_grad_(True)\n",
        "\n",
        "\n",
        "#     d_interpolates = D(interpolates)\n",
        "\n",
        "\n",
        "#     grad_x_hat = grad(\n",
        "#             outputs=d_interpolates.sum(), inputs=interpolates, create_graph=True)[0]\n",
        "#     grad_penalty = ((grad_x_hat.view(grad_x_hat.size(0), -1)\n",
        "#                       .norm(2, dim=1) - 1)**2).mean()\n",
        "#     grad_penalty = 10 * grad_penalty\n",
        "\n",
        "#     return grad_penalty"
      ],
      "metadata": {
        "id": "C4L3KtQpoV7N"
      },
      "id": "C4L3KtQpoV7N",
      "execution_count": null,
      "outputs": []
    },
    {
      "cell_type": "markdown",
      "source": [
        "### Initializing the generator, discriminator, optimizer, labels, and loss."
      ],
      "metadata": {
        "id": "uau2WOFLtdHE"
      },
      "id": "uau2WOFLtdHE"
    },
    {
      "cell_type": "code",
      "source": [
        "generator = G().to(device)\n",
        "discriminator = D().to(device)\n",
        "modifying_layer = MLP_GAN().to(device)\n",
        "\n",
        "G_optimizer = t.optim.Adam(generator.parameters(), lr = 0.0001)\n",
        "D_optimizer = t.optim.Adam(discriminator.parameters(), lr = 0.0001)\n",
        "Modify_optimizer = t.optim.Adam(modifying_layer.parameters(), lr = 0.0001)\n",
        "\n",
        "Unet_no_skip = SimpleUnet().cuda()\n",
        "U_optim = t.optim.Adam(Unet_no_skip.parameters(), lr = 0.001)\n",
        "\n",
        "\n",
        "# acc = BinaryAccuracy().to(device)\n",
        "\n",
        "bceLoss = nn.BCEWithLogitsLoss()\n",
        "mseLoss = nn.MSELoss()\n",
        "L1_Loss = nn.L1Loss()\n",
        "\n",
        "should_train_G = True #True = train d, False = train g"
      ],
      "metadata": {
        "id": "tYHwz-Jmtp0D"
      },
      "id": "tYHwz-Jmtp0D",
      "execution_count": null,
      "outputs": []
    },
    {
      "cell_type": "markdown",
      "source": [
        "### Train decider"
      ],
      "metadata": {
        "id": "YwZyQHRGrjEd"
      },
      "id": "YwZyQHRGrjEd"
    },
    {
      "cell_type": "code",
      "source": [
        "# def what_to_train(fake_score, real_score, should_train_G):\n",
        "#   last_should_train_G = should_train_G\n",
        "\n",
        "\n",
        "#   if (fake_score < real_score * score_dif):\n",
        "#     return True\n",
        "\n",
        "#   if last_should_train_G:\n",
        "#     if (fake_score > real_score * (1 - score_dif)):\n",
        "#       return False\n",
        "#     else:\n",
        "#       return True\n",
        "\n",
        "#   return False\n",
        "\n",
        "\n",
        "\n",
        "\n",
        "\n"
      ],
      "metadata": {
        "id": "kmvyM-njrmG_"
      },
      "id": "kmvyM-njrmG_",
      "execution_count": null,
      "outputs": []
    },
    {
      "cell_type": "markdown",
      "source": [
        "### Start training"
      ],
      "metadata": {
        "id": "iwMi3phCuk79"
      },
      "id": "iwMi3phCuk79"
    },
    {
      "cell_type": "markdown",
      "source": [
        "Try Simple AE Unet without skip connection"
      ],
      "metadata": {
        "id": "j7xtGnTNShN4"
      },
      "id": "j7xtGnTNShN4"
    },
    {
      "cell_type": "code",
      "source": [
        "best_mse = 99999\n",
        "for epoch in range(iteration):\n",
        "    Unet_no_skip.train()\n",
        "    pbar = tqdm(enumerate(Y_dataloader))\n",
        "\n",
        "    mse_average = 0\n",
        "\n",
        "    for i, X_data in pbar:\n",
        "\n",
        "\n",
        "        epochNum = str(epoch)\n",
        "\n",
        "        #Training the D\n",
        "        #data\n",
        "        real = Y_dataloader[i].cuda()\n",
        "\n",
        "        #current_batch size (the last batch is different than others)\n",
        "        current_batch_size, c, h, w = real.shape\n",
        "\n",
        "        #Train G\n",
        "        # canvas = t.ones((real.shape)).cuda()\n",
        "        pre = Unet_no_skip(real) #+ canvas\n",
        "\n",
        "        loss = mseLoss(pre, real).mean()\n",
        "        Unet_no_skip.zero_grad()\n",
        "        loss.backward()\n",
        "        U_optim.step()\n",
        "\n",
        "        mse_average += loss.item()\n",
        "\n",
        "        mse = \"Epoch: \" + epochNum\n",
        "\n",
        "        pbar.set_description(mse)\n",
        "\n",
        "        pbar.set_postfix(MSELoss = loss.item())\n",
        "\n",
        "    mse_average /= len(Y_dataloader)\n",
        "\n",
        "    if epoch % 1 == 0:\n",
        "\n",
        "      showOneImge(real[0], 99999, False)\n",
        "      showOneImge(pre[0], 99999, False)\n",
        "      showOneImge(real[1], 99999, False)\n",
        "      showOneImge(pre[1], 99999, False)\n",
        "      showOneImge(real[2], 99999, False)\n",
        "      showOneImge(pre[2], 99999, False)\n",
        "      print(\"epoch = \", epoch + 1)\n",
        "      print('Epoch [{}/{}], Step [{}/{}], avg_mse_loss: {:.4f}'.format(epoch, iteration, i+1, total_data_len // batch_size + 1, mse_average))\n",
        "\n",
        "\n",
        "    if mse_average < best_mse:\n",
        "      t.save(Unet_no_skip.state_dict(), f'{log_folder}/checkpoint/{str(epoch + 1).zfill(6)}_best_Unet.pth')\n",
        "      best_mse = mse_average\n"
      ],
      "metadata": {
        "id": "ckNMPYVwSgHy"
      },
      "id": "ckNMPYVwSgHy",
      "execution_count": null,
      "outputs": []
    },
    {
      "cell_type": "code",
      "source": [
        "cp /content/log/checkpoint /content/drive/MyDrive/Event_TO_PC"
      ],
      "metadata": {
        "id": "PulF5tEacbrt"
      },
      "id": "PulF5tEacbrt",
      "execution_count": null,
      "outputs": []
    },
    {
      "cell_type": "markdown",
      "source": [
        "Testing GAN on top of regular ae"
      ],
      "metadata": {
        "id": "zs1IOoq2vyiF"
      },
      "id": "zs1IOoq2vyiF"
    },
    {
      "cell_type": "code",
      "execution_count": null,
      "id": "19c068f5",
      "metadata": {
        "id": "19c068f5"
      },
      "outputs": [],
      "source": [
        "\n",
        "boost_loop = 2\n",
        "\n",
        "d_loop = 3\n",
        "\n",
        "trainG = True\n",
        "\n",
        "for epoch in range(iteration):\n",
        "\n",
        "    pbar = tqdm(enumerate(X_dataloader))\n",
        "\n",
        "    # real_score = t.Tensor(2)\n",
        "\n",
        "    # fake_score = t.Tensor(2)\n",
        "\n",
        "    # g_fake_loss = t.Tensor([2])\n",
        "\n",
        "    # g_total_loss = 0\n",
        "\n",
        "    d_step = 0\n",
        "    fake_score = t.tensor(float('inf'))\n",
        "    mse_average = 0\n",
        "    real_score_mean = 0\n",
        "    fake_score_mean = 0\n",
        "    accuracy_mean = 0\n",
        "    mse_loss = t.tensor(float('inf'))\n",
        "    real_score = t.tensor(float('inf'))\n",
        "    d_real_loss = t.tensor(float('inf'))\n",
        "    d_fake_loss = t.tensor(float('inf'))\n",
        "    total_loss = t.tensor(float('inf'))\n",
        "    accuracy = t.tensor(float('inf'))\n",
        "\n",
        "    for i, X_data in pbar:\n",
        "\n",
        "\n",
        "        epochNum = str(epoch)\n",
        "\n",
        "        #Training the D\n",
        "        #data\n",
        "        real = Y_dataloader[i].cuda()\n",
        "        X_data = X_data.cuda()\n",
        "\n",
        "        batch_size = X_data.shape[0]\n",
        "\n",
        "        label_real = t.ones((batch_size, 1)).cuda()\n",
        "        label_fake = t.zeros((batch_size, 1)).cuda()\n",
        "\n",
        "        #current_batch size (the last batch is different than others)\n",
        "        current_batch_size, c, h, w = real.shape\n",
        "\n",
        "\n",
        "        #Train G\n",
        "\n",
        "\n",
        "        # mse_average += mse_loss\n",
        "        fake = generator(X_data)\n",
        "\n",
        "        mse_loss_image = mseLoss(fake, real)\n",
        "        fake_score, latent_fake = discriminator(fake)\n",
        "        real_score, latent_real = discriminator(fake)\n",
        "        mse_loss_latent = mseLoss(latent_fake, latent_real)\n",
        "        g_fake_loss = mse_loss_latent  + mse_loss_image  #bceLoss(fake_score, label_real).mean()\n",
        "\n",
        "        discriminator.zero_grad()\n",
        "        generator.zero_grad()\n",
        "        g_fake_loss.backward()\n",
        "        G_optimizer.step()\n",
        "\n",
        "        mse_average += mse_loss_image.item()\n",
        "\n",
        "        #Train D\n",
        "        real_score, latent_real = discriminator(real)\n",
        "        fake_score, latent_fake = discriminator(fake.detach().clone())\n",
        "\n",
        "        accuracy = acc(fake_score, label_fake)\n",
        "        accuracy_mean += accuracy.item()\n",
        "\n",
        "        # d_fake_loss = t.mean(fake_score)\n",
        "\n",
        "\n",
        "        d_fake_loss = bceLoss(fake_score, label_fake).mean()\n",
        "        fake_score_mean += fake_score.mean().item()\n",
        "        d_real_loss = bceLoss(real_score, label_real).mean()\n",
        "        real_score_mean += real_score.mean().item()\n",
        "\n",
        "        # gradient_penalty = compute_gradient_penalty(discriminator, real, fake, current_batch_size)\n",
        "\n",
        "        total_loss = d_fake_loss + d_real_loss #+ gradient_penalty\n",
        "        # total_loss = -real_score.mean() + fake_score.mean()#d_fake_loss + d_real_loss\n",
        "\n",
        "        generator.zero_grad()\n",
        "        discriminator.zero_grad()\n",
        "        total_loss.backward()\n",
        "        D_optimizer.step()\n",
        "\n",
        "\n",
        "\n",
        "\n",
        "\n",
        "\n",
        "\n",
        "        mse = \"Epoch: \" + epochNum\n",
        "\n",
        "        pbar.set_description(mse)\n",
        "\n",
        "        pbar.set_postfix(real_score = real_score.mean().item(), fake_score = fake_score.mean().item(), mse_loss = mse_loss_image.item(), accuracy = accuracy.item())\n",
        "\n",
        "    mse_average /= len(X_dataloader)\n",
        "    real_score_mean /= len(X_dataloader)\n",
        "    fake_score_mean /= len(X_dataloader)\n",
        "    accuracy_mean /= len(X_dataloader)\n",
        "\n",
        "    if epoch % 1 == 0:\n",
        "\n",
        "      showOneImge(real[0], 99999, False)\n",
        "      showOneImge(fake[0], 99999, False)\n",
        "      showOneImge(real[1], 99999, False)\n",
        "      showOneImge(fake[1], 99999, False)\n",
        "      showOneImge(real[2], 99999, False)\n",
        "      showOneImge(fake[2], 99999, False)\n",
        "      print(\"epoch = \", epoch + 1)\n",
        "      print('Epoch [{}/{}], Step [{}/{}], real_mean: {:.2f}, fake_mean: {:.2f}, avg_mse: {:.2f}, accuracy_mean: {:.2f}'.format(epoch, iteration, i+1, total_data_len // batch_size + 1, real_score_mean, fake_score_mean, mse_average, accuracy_mean))\n",
        "\n",
        "\n",
        "    if i % 50 == 0:\n",
        "      t.save(generator.state_dict(), f'{log_folder}/checkpoint/{str(i + 1).zfill(6)}_g.model')\n",
        "      t.save(discriminator.state_dict(), f'{log_folder}/checkpoint/{str(i + 1).zfill(6)}_d.model')\n"
      ]
    },
    {
      "cell_type": "markdown",
      "source": [
        "### Show Result"
      ],
      "metadata": {
        "id": "G899nUbq5miN"
      },
      "id": "G899nUbq5miN"
    },
    {
      "cell_type": "code",
      "source": [
        "\n",
        "\n",
        "#Generated\n",
        "generator.eval()\n",
        "\n",
        "with t.no_grad():\n",
        "  input_noise = t.normal(0, 1, size = (eval_size, 1, 1, laten_space)).to(device)\n",
        "  generated = generator(input_noise, eval_size)\n",
        "  showMoreImages(generated, eval_size)\n",
        "\n",
        "#Real\n",
        "datasets_batched = DataLoader(dataset, batch_size = eval_size)\n",
        "loader = iter(datasets_batched)\n",
        "real = next(loader)\n",
        "showMoreImages(real, eval_size)"
      ],
      "metadata": {
        "id": "xaJSe0r55qSF"
      },
      "id": "xaJSe0r55qSF",
      "execution_count": null,
      "outputs": []
    },
    {
      "cell_type": "markdown",
      "source": [
        "### remove log file when necessarry"
      ],
      "metadata": {
        "id": "QFhYIcFKF76d"
      },
      "id": "QFhYIcFKF76d"
    },
    {
      "cell_type": "code",
      "source": [
        "# !rm -rf /content/log/checkpoint\n",
        "\n",
        "# !mkdir /content/log/checkpoint\n",
        "\n",
        "# !rm -rf /content/log/sample\n",
        "# !mkdir /content/log/sample\n",
        "\n",
        "# from google.colab import files\n",
        "# files.download('/content/log')"
      ],
      "metadata": {
        "id": "ERTMUfeIFrp3"
      },
      "id": "ERTMUfeIFrp3",
      "execution_count": null,
      "outputs": []
    },
    {
      "cell_type": "code",
      "source": [],
      "metadata": {
        "id": "exU4K1fh3qBG"
      },
      "id": "exU4K1fh3qBG",
      "execution_count": null,
      "outputs": []
    }
  ],
  "metadata": {
    "kernelspec": {
      "display_name": "Python 3 (ipykernel)",
      "language": "python",
      "name": "python3"
    },
    "language_info": {
      "codemirror_mode": {
        "name": "ipython",
        "version": 3
      },
      "file_extension": ".py",
      "mimetype": "text/x-python",
      "name": "python",
      "nbconvert_exporter": "python",
      "pygments_lexer": "ipython3",
      "version": "3.9.10"
    },
    "colab": {
      "provenance": [],
      "collapsed_sections": [
        "yAPv12swY7xc"
      ],
      "private_outputs": true,
      "gpuClass": "premium",
      "include_colab_link": true
    },
    "accelerator": "GPU",
    "gpuClass": "premium"
  },
  "nbformat": 4,
  "nbformat_minor": 5
}